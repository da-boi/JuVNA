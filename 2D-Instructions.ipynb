{
 "cells": [
  {
   "cell_type": "markdown",
   "id": "8fc90a1d",
   "metadata": {},
   "source": [
    "The first program to look at is the code sd_movement. With this program it is possible to scan and visualize the field in two dimensions.\n",
    "It relys on other programs which have to be included first."
   ]
  },
  {
   "cell_type": "code",
   "execution_count": 5,
   "id": "74336026",
   "metadata": {},
   "outputs": [
    {
     "data": {
      "text/plain": [
       "correctPosition (generic function with 1 method)"
      ]
     },
     "metadata": {},
     "output_type": "display_data"
    }
   ],
   "source": [
    "include(\"examplesalex/stages.jl\")\n",
    "include(\"examplesalex/measurement.jl\")\n",
    "include(\"examplesalex/plot.jl\")\n"
   ]
  },
  {
   "cell_type": "markdown",
   "id": "31ad4add",
   "metadata": {},
   "source": [
    "In the following cell, the connection between the four motors and the computer is established. Each motor is given a name and sorted. The motors that are not used for this measurement are disconnected again and can be controlled by another person."
   ]
  },
  {
   "cell_type": "code",
   "execution_count": null,
   "id": "95b8755f",
   "metadata": {},
   "outputs": [],
   "source": [
    "### Connect to the Motor \"Bigger Chungus\" ###\n",
    "devcount, devenum, enumnames = setupDevices(ENUMERATE_PROBE | ENUMERATE_NETWORK,b\"addr=134.61.12.184\")\n",
    "\n",
    "D = openDevices(enumnames,stagenames)\n",
    "checkOrdering(D,stagenames)\n",
    "closeDevices(D[1:2])\n"
   ]
  },
  {
   "cell_type": "markdown",
   "id": "2896b1f7",
   "metadata": {},
   "source": [
    "The next step is to select the basic settings of the VNA and connect it to the computer. \n",
    "InstrumentSimplifiedSetup sets the instrument according to the selected settings.\n",
    "A name for the measurement is also selected.\n",
    "The res parameter specifies the resolution of the scan by determining the distance the motors travel vertically after each horizontal scan. The number must be between 1 and 7, the higher the number the lower the resolution. More information about this will be shown later when explaining the measuremnt.jl code."
   ]
  },
  {
   "cell_type": "code",
   "execution_count": null,
   "id": "f230c4a4",
   "metadata": {},
   "outputs": [],
   "source": [
    "\n",
    "\n",
    "#Basic VNA settings\n",
    "power=-20\n",
    "f_center::Float64 = 20e9\n",
    "f_span::Float64 = 3e9\n",
    "sweepPoints::Integer = 128\n",
    "ifbandwidth::Integer = 100e3\n",
    "\n",
    "\n",
    "#Resolution of the scan, a number between 1 and 7 needs to be selected. The bigger the number the lower the resolution \n",
    "res = 7\n",
    "name::String = \"2D_CristalRB3-07.jld2\"\n",
    "\n",
    "#Connect to the VNA and start basics setup\n",
    "vna = connectVNA()\n",
    "vnaParam = instrumentSimplifiedSetup(vna; calName=cals[:c3GHz_NEW], power=power, center=f_center, span=f_span, sweepPoints=sweepPoints, ifbandwidth=ifbandwidth)\n",
    "\n"
   ]
  },
  {
   "cell_type": "markdown",
   "id": "a23f2c09",
   "metadata": {},
   "source": [
    "Now everything is ready to start a scan. The twoDMeasurement function tells the motors how to move, decides when to make the measurements, saves the data to variables and counts the time the whole process takes. \n",
    "The data is stored in a JLD2 file for later access, and the motors are disconnected because they are not needed to analyze the data."
   ]
  },
  {
   "cell_type": "code",
   "execution_count": null,
   "id": "007c309a",
   "metadata": {},
   "outputs": [],
   "source": [
    "\n",
    "@time S, f, pos_BIGGER, pos_BIG, posSet = twoDMeasurement(vna, 0, 18000; speed=2000, speedSetup=2000, res=res, sweepPoints=sweepPoints)\n",
    "\n",
    "meas = Measurement2D(\"\", vnaParam, f, S, pos_BIGGER, pos_BIG, posSet)\n",
    "saveMeasurement(meas; name=name)\n",
    "\n",
    "closeDevices(D)"
   ]
  },
  {
   "cell_type": "markdown",
   "id": "e6393698",
   "metadata": {},
   "source": [
    "Now the stored data can be retrieved via the readMeasurment and visualized with the plot... functions.\n",
    "The transform function has been added to change the way the data is stored. As will be shown later in the measurement.jl code, the S11 parameters are stored as a matrix where each entry is a vector whose length is equal to the number of SweepPoints. This format was chosen because the x and y dimensions are stored as columns and rows of a matrix. Each measurement point in space has an x and y coordinate, as well as the number of SweepPoints in the third dimension. \n",
    "To visualize the scanned field, the format of the S11 was changed to a vector where each entry is an x-y matrix. In this way, one can clearly see the different images for different frequencies."
   ]
  },
  {
   "cell_type": "code",
   "execution_count": null,
   "id": "a2fd003f",
   "metadata": {},
   "outputs": [],
   "source": [
    "\n",
    "data = readMeasurement(\"C:/Users/deslis.INST3/JuXIMC.jl/2D_CristalRB3-07_500_2023-07-18_1.jld2_2023-07-26_4.jld2\")\n",
    "transData = transform(data, sweepPoints, res)\n",
    "\n",
    "plotPoints(data, sweepPoints, res, transData)\n",
    "plotGaussianFit2D(data, sweepPoints, transData)\n",
    "\n"
   ]
  },
  {
   "cell_type": "markdown",
   "id": "a38c747e",
   "metadata": {},
   "source": [
    "Now we iterate through the individual frequencies and visualize the data as heatmaps.\n",
    "To see the result clearly, all plots are saved as gif."
   ]
  },
  {
   "cell_type": "code",
   "execution_count": null,
   "id": "7f4443a2",
   "metadata": {},
   "outputs": [],
   "source": [
    "\n",
    "anim = @animate for freqIndex in 1:sweepPoints\t\n",
    "    plotHeatmap2D(data, freqIndex)\n",
    "    \n",
    "end\n",
    "gif(anim, \"anim_\"*name*\".gif\", fps = 10)\n"
   ]
  },
  {
   "cell_type": "markdown",
   "id": "703344e6",
   "metadata": {},
   "source": [
    "A helpfull tip if a scan has to be interupted or is otherwise unfinished is the following cell. \n",
    "The unfinished program is not able to deleted the saved traces on the memory of the VNA, which causes VNA erros if a new scan is started.\n",
    "In order to avoid this the traces have to be cleared manually using the next lines. The number 45 is picked by random and can be changed but it hast to be high enough to deleted all saves traces.\n"
   ]
  },
  {
   "cell_type": "code",
   "execution_count": null,
   "id": "72aa71ed",
   "metadata": {},
   "outputs": [],
   "source": [
    "\n",
    "for i in 1:45\n",
    "    deleteTrace(vna, i)\n",
    "end"
   ]
  },
  {
   "cell_type": "markdown",
   "id": "d0da336f",
   "metadata": {},
   "source": [
    "It takes several arguments, most of which should be self-explanatory.\n",
    "The first settings bind the names of the motors to their numbers to show more clearly which motor is moving.\n",
    "The setStepSize function uses the selected resolution to calculate the step size and the number of vertical steps (vNum).  \n",
    "Resolution contains 7 numbers between 1 and 20, which are selected because vNum should be an integer and the area to be scanned (by me) is set to 20 cm."
   ]
  },
  {
   "cell_type": "code",
   "execution_count": null,
   "id": "2d2b0c7a",
   "metadata": {},
   "outputs": [],
   "source": [
    "function twoDMeasurement(socket::TCPSocket, startPos::Integer, endPos::Integer; speed::Integer=1000, speedSetup::Integer=1000, res::Integer, sweepPoints::Integer)\n",
    "    \n",
    "\n",
    "    BigChungus = 3\n",
    "    BiggerChungus = 4\n",
    "       \n",
    "    stepSize, vNum = setStepSize(res)\n",
    "    \n",
    "    if res > 7\n",
    "        error(\"Resolution is too low, choose a number between 1 - 7 \")\n",
    "    end\n",
    "\n",
    "    println(\"A resolution of \"*string(res)*\" was chosen, this corresponds to \"*string(resolution[res])*\" mm per vertical movement and \"*string(Int(vNum))*\" horizontal lines in the resultuing plot\")\n",
    "    "
   ]
  },
  {
   "cell_type": "markdown",
   "id": "8eaa002a",
   "metadata": {},
   "source": [
    "In the next lines some variables are defined as well as some important data like the frequencies and the given positions where a measurement should be performed are stored."
   ]
  },
  {
   "cell_type": "code",
   "execution_count": null,
   "id": "8794983c",
   "metadata": {},
   "outputs": [],
   "source": [
    "    pos_data_BIGGER = Vector{Position}(undef, 0)\n",
    "    pos_data_BIG = Vector{Position}(undef, 0)\n",
    "    f_data = getFreqAsBinBlockTransfer(vna)\n",
    "\n",
    "    posSet = getMeasurementPositions(startPos, endPos; stepSize=stepSize)\n",
    "    posSetLen = length(posSet)::Int64\n",
    "    S_data = Matrix{Vector{ComplexF64}}(undef,  vNum, length(posSet))"
   ]
  },
  {
   "cell_type": "markdown",
   "id": "9099d88f",
   "metadata": {},
   "source": [
    "Before a measurement can take place, both motors must move to their starting positions, which is done by the following cell. It is also possible to change this function so that it only performs a 1D scan, in which case the following lines would have to be changed. \n",
    "However, I do not recommend this, because there are other programs that are made for 1D scans."
   ]
  },
  {
   "cell_type": "code",
   "execution_count": null,
   "id": "6d46b120",
   "metadata": {},
   "outputs": [],
   "source": [
    "\n",
    "    #      for 2D\n",
    "    for i in BigChungus:BiggerChungus\n",
    "        \n",
    "        setSpeed(D[i], speedSetup)  \n",
    "        commandMove(D[i], startPos, 0) \n",
    "        commandWaitForStop(D[i])       \n",
    "        \n",
    "    end\n",
    "    "
   ]
  },
  {
   "cell_type": "markdown",
   "id": "9b9a5602",
   "metadata": {},
   "source": [
    "Now the motors are moved depending on the position.\n",
    "The scan start is in the upper right corner, then it scans once to the upper left, then the system moves down where it scans from left to right. \n",
    "This results in three scenarios. \n",
    "\n",
    "First: The bead is in the upper right corner and must perform an initial scan before moving down.\n",
    "Second: The bead is on the left side of the area to be scanned, so it must first be moved down and then from left to right. \n",
    "Third: The bead is on the right side, but must first be moved down before it is moved to the left."
   ]
  },
  {
   "cell_type": "code",
   "execution_count": null,
   "id": "a9a58e76",
   "metadata": {},
   "outputs": [],
   "source": [
    "\n",
    "    #movement of the motors\n",
    "    for y in 1:vNum\n",
    "        println(\"round \", y)\n",
    "        currentPos_BIG = getPos(D[BigChungus])\n",
    "        push!(pos_data_BIG, currentPos_BIG)\n",
    "        \n",
    "        current = 1\n",
    "        if y == 1    \n",
    "            commandMove(D[BiggerChungus], endPos, 0)\n",
    "            \n",
    "        elseif y % 2 == 0\n",
    "            commandMove(D[BigChungus], stepSize*y, 0)\n",
    "            commandWaitForStop(D[BigChungus])\n",
    "            \n",
    "            commandMove(D[BiggerChungus],  startPos, 0)\n",
    "            \n",
    "        else\n",
    "            commandMove(D[BigChungus], stepSize*y, 0)\n",
    "            commandWaitForStop(D[BigChungus])\n",
    "            \n",
    "            commandMove(D[BiggerChungus], endPos, 0)\n",
    "            \n",
    "        end\n",
    "    "
   ]
  },
  {
   "cell_type": "markdown",
   "id": "c499230c",
   "metadata": {},
   "source": [
    "While the motor is moving, the program checks whether the previously defined measuring point is passed. If this is the case, a measurement is made via the storeTraceInMemory function. \n",
    "This function takes the data corresponding to the visible trace and stores it in the VNA's memory. This is repeated for all scans. \n",
    "The direction of the scan causes some complications, as we will see later."
   ]
  },
  {
   "cell_type": "code",
   "execution_count": null,
   "id": "57786a8f",
   "metadata": {},
   "outputs": [],
   "source": [
    "        while true\n",
    "            currentPos_BIGGER = getPos(D[BiggerChungus])\n",
    "            \n",
    "            # Check wether the current position has passed the intended point of measurement.\n",
    "            # The condition if a point has been passed is dependent on the direction of travel.\n",
    "        \n",
    "            if y % 2 == 0\n",
    "                passed = isSmallerEqPosition(currentPos_BIGGER, Position(posSet[length(posSet)+1-current], 0))\n",
    "            else\n",
    "                passed = isGreaterEqPosition(currentPos_BIGGER, Position(posSet[current], 0))\n",
    "            end\n",
    "            # If a point has been passed, perform a measurement\n",
    "            if passed\n",
    "                storeTraceInMemory(socket, current)\n",
    "                push!(pos_data_BIGGER, currentPos_BIGGER)\n",
    "                current += 1\n",
    "                if current == length(posSet) +1  break end\n",
    "            end\n",
    "        end"
   ]
  },
  {
   "cell_type": "markdown",
   "id": "1a233d9d",
   "metadata": {},
   "source": [
    "The next cell takes the stored data from memory and stores it in S_data."
   ]
  },
  {
   "cell_type": "code",
   "execution_count": null,
   "id": "1991d1ee",
   "metadata": {},
   "outputs": [],
   "source": [
    "        \n",
    "        # Read the data from Memory\n",
    "        for x in 1:length(posSet)\n",
    "            \n",
    "            if y % 2 == 0\n",
    "                S_params = getTraceFromMemory(socket, x)\n",
    "                \n",
    "                S_data[y, length(posSet) - x + 1] = S_params\n",
    "                \n",
    "            else\n",
    "                S_params = getTraceFromMemory(socket, x)\n",
    "                S_data[y,x] = S_params\n",
    "            end\n",
    "        end\n",
    "    end\n",
    "\n",
    "    return (S_data, f_data, pos_data_BIGGER, pos_data_BIG, posSet)\n",
    "end\n",
    "       "
   ]
  },
  {
   "cell_type": "markdown",
   "id": "28ff7544",
   "metadata": {},
   "source": [
    "One of the biggest problems we have is recording the data. As mentioned earlier, it depends on the direction of the scan. \n",
    "The moment the bead moves past one of the measurement points, both the communication of the VNA with the computer and the data recording itself takes some time. During this time, the bead continues to move, causing the point to shift. This shift is exacerbated by the fact that the scan is made in one direction in one pass and in the other direction in the other pass. \n",
    "This effect is shown in the resulting plot."
   ]
  },
  {
   "cell_type": "code",
   "execution_count": null,
   "id": "abe33e9c",
   "metadata": {},
   "outputs": [],
   "source": [
    "freqIndex = argmin(abs.(data.freq .- 20*10^9))\n",
    "plotHeatmap2D(data, freqIndex)\n"
   ]
  },
  {
   "cell_type": "markdown",
   "id": "31e0236e",
   "metadata": {},
   "source": [
    "The next program can be used to perform 1D measurements. This is often useful for tests and simple field scans.\n",
    "Since only one motor is moved, it is helpful to assign it directly to a variable, in our case the letter D."
   ]
  },
  {
   "cell_type": "code",
   "execution_count": null,
   "id": "daba9894",
   "metadata": {},
   "outputs": [],
   "source": [
    "include(\"../examplesdom/stages.jl\")\n",
    "include(\"measurement.jl\")\n",
    "include(\"plot.jl\")\n",
    "\n",
    "\n",
    "### Connect to the Motor \"Bigger Chungus\" ###\n",
    "devcount, devenum, enumnames = setupDevices(ENUMERATE_PROBE | ENUMERATE_NETWORK,b\"addr=134.61.12.184\")\n",
    "\n",
    "D = openDevices(enumnames,stagenames)\n",
    "checkOrdering(D,stagenames)\n",
    "D = D[4]\n",
    "\n",
    "\n",
    "### Connect to the VNA ###\n",
    "power=-20\n",
    "f_center::Float64 = 20e9\n",
    "f_span::Float64 = 3e9\n",
    "sweepPoints::Integer = 128\n",
    "ifbandwidth::Integer = 100e3\n",
    "measurement::String = \"CH1_S11_1\"\n",
    "\n",
    "vna = connectVNA()\n",
    "vnaParam = instrumentSimplifiedSetup(vna; calName=cals[:c3GHz_NEW], power=power, center=f_center, span=f_span, sweepPoints=sweepPoints, ifbandwidth=ifbandwidth)\n",
    "\n",
    "@time S, f, pos, posSet = getContinousMeasurement(vna, 0, 20000; speed=2000, speedSetup=2000, stepSize=500)\n",
    "meas = Measurement(\"speedtest\", vnaParam, f, S, pos, posSet)\n",
    "saveMeasurement(meas; filename=\"metalwire_3GHz.data\")\n",
    "\n",
    "plotHeatmap(meas)\n",
    "plotGaussianFit(meas)\n",
    "\n"
   ]
  },
  {
   "cell_type": "markdown",
   "id": "5911d0de",
   "metadata": {},
   "source": [
    "A simple signal to noise ration analysis is possible with the next program. "
   ]
  },
  {
   "cell_type": "code",
   "execution_count": null,
   "id": "e0af129f",
   "metadata": {},
   "outputs": [],
   "source": [
    "include(\"stages.jl\")\n",
    "include(\"measurement.jl\")\n",
    "include(\"plot.jl\")\n",
    "\n",
    "\n",
    "### Connect to the Motor \"Bigger Chungus\" ###\n",
    "devcount, devenum, enumnames = setupDevices(ENUMERATE_PROBE | ENUMERATE_NETWORK,b\"addr=134.61.12.184\")\n",
    "\n",
    "D_all = openDevices(enumnames,stagenames)\n",
    "checkOrdering(D_all,stagenames)\n",
    "#closeDevices(D[1:2])\n",
    "D = D_all[4]\n",
    "\n",
    "\n",
    "powerStep = [-20, -15, -10, -5, 0, 5, 10, 14]    \n",
    "bead = \"CristalRB3-07\"\n",
    "date = \"2023-07-12\"\n",
    "\n",
    "plot()\n",
    "\n",
    "for i in eachindex(powerStep)\n",
    "\n",
    "    global vna = connectVNA()\n",
    "\n",
    "    power= powerStep[i]\n",
    "    println(power)\n",
    "    f_center::Float64 = 20e9\n",
    "    f_span::Float64 = 3e9\n",
    "    sweepPoints::Integer = 128\n",
    "    ifbandwidth::Integer = 100e3\n",
    "\n",
    "    \n",
    "    name::String = bead*\"_SNR_P\"* string(powerStep[i])\n",
    "    \n",
    "    vnaParam = instrumentSimplifiedSetup(vna; calName=cals[:c3GHz_NEW], power=power, center=f_center, span=f_span, sweepPoints=sweepPoints, ifbandwidth=ifbandwidth)\n",
    "\n",
    "    @time S, f, pos, posSet = getContinousMeasurement(vna, 0, 18000; speed=2000, speedSetup=2000, stepSize=500)\n",
    "    meas = Measurement(\"\", vnaParam, f, S, pos, posSet)\n",
    "    saveMeasurement(meas; name= \"/inst3/data/Benutzer/deslis/Desktop/Hiwi-Job/\"*name*\".jld2\")\n",
    "      \n",
    "    disconnectVNA(vna)\n",
    "end\n",
    "\n",
    "closeDevices(D_all)\n",
    "\n",
    "\n",
    "plot()\n",
    "for i in eachindex(powerStep)\n",
    "    power=  powerStep[i]\n",
    "    data = readMeasurement(bead*\"_SNR_P\"*string(power)*date*\".jld2\")\n",
    "    plotGaussianFit(data, power)\n",
    "end\n",
    "png(\"powerComp4\")\n",
    "\n",
    "#Power to noise ratio\n",
    "\n",
    "SNR_list = []\n",
    "power_list = []\n",
    "\n",
    "data = meas\n",
    "\n",
    "plot()\n",
    "for i in eachindex(powerStep)\n",
    "    power = powerStep[i]\n",
    "    data = readMeasurement(\"//inst3/data/Benutzer/deslis/Desktop/Hiwi-Job/Data/2D_CristalRB3-07_SNR_P\"*string(power)*\"_2023-06-06_1.jld2\"\n",
    "\n",
    "    E = calcFieldProportionality(data)*sqrt(10^(power/10)/1000) .*1000\n",
    "    y = dropdims(sum(E, dims=2), dims=2)[begin+1:end]\n",
    "\n",
    "\n",
    "    SNR = maximum(y) / minimum(y)\n",
    "    push!(SNR_list, SNR)\n",
    "    println(SNR_list)\n",
    "end\n",
    "\n",
    "scatter!(powerStep, SNR_list, xlabel = \"Power Level [dBm]\", ylabel = \"Signal to noise ratio\")\n",
    "png(\"powerComp3_SNR\")\n"
   ]
  }
 ],
 "metadata": {
  "kernelspec": {
   "display_name": "Julia 1.8.5",
   "language": "julia",
   "name": "julia-1.8"
  },
  "language_info": {
   "file_extension": ".jl",
   "mimetype": "application/julia",
   "name": "julia",
   "version": "1.8.5"
  }
 },
 "nbformat": 4,
 "nbformat_minor": 5
}
