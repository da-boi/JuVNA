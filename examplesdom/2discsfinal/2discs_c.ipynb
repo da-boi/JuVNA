{
 "cells": [
  {
   "cell_type": "code",
   "execution_count": null,
   "metadata": {},
   "outputs": [],
   "source": [
    "using Pkg\n",
    "Pkg.add(url=\"https://github.com/bergermann/Dragoon.jl.git\")\n",
    "Pkg.update()"
   ]
  },
  {
   "cell_type": "code",
   "execution_count": null,
   "metadata": {},
   "outputs": [],
   "source": [
    "cd(\"\\\\\\\\inst3\\\\data\\\\Benutzer\\\\bergermann\\\\Desktop\\\\Julia Files\\\\JuXIMC.jl\")\n",
    "\n",
    "using Dragoon\n",
    "using Dates\n",
    "using Plots\n",
    "using JLD2\n",
    "using LaTeXStrings\n",
    "\n",
    "\n",
    "include(joinpath(pwd(),\"src/vna_control.jl\"));\n",
    "include(joinpath(pwd(),\"src/JuXIMC.jl\"));\n",
    "include(joinpath(pwd(),\"examplesdom/dragoonstuff.jl\"));\n",
    "\n",
    "include(\"stages2discs_c.jl\");"
   ]
  },
  {
   "cell_type": "code",
   "execution_count": null,
   "metadata": {},
   "outputs": [],
   "source": [
    "vna = connectVNA()\n",
    "setupFromFile(vna,\"src/vna_22G_50M.txt\")\n",
    "\n",
    "freqs = collect(Float64,getFreqAsBinBlockTransfer(vna))\n",
    "\n",
    "function objRefVNA(booster::Booster,freqs::Vector{Float64},(vna,ref0)::Tuple{TCPSocket,Vector{ComplexF64}})\n",
    "    # sleep(1)\n",
    "\n",
    "    ref = getTrace(vna)\n",
    "\n",
    "    return sum(abs.(ref-ref0))\n",
    "end\n",
    "\n",
    "function objRefRef(booster::Booster,freqs::Vector{Float64},(ref,ref0)::Tuple{Vector{ComplexF64},Vector{ComplexF64}})\n",
    "    return sum(abs.(ref-ref0))\n",
    "end\n",
    "\n",
    "ObjRefVNA(vna,ref0) = Callback(objRefVNA,(vna,ref0))\n",
    "ObjRefRef(ref,ref0) = Callback(objRefRef,(ref,ref0))"
   ]
  },
  {
   "cell_type": "code",
   "execution_count": null,
   "metadata": {},
   "outputs": [],
   "source": [
    "infoXIMC();\n",
    "\n",
    "D = requestDevices(\"Motor 7\",\"Monica\")"
   ]
  },
  {
   "cell_type": "code",
   "execution_count": null,
   "metadata": {},
   "outputs": [],
   "source": [
    "devices = Devices(D,stagecals,stagecols,stagezeros,stageborders,stagehomes);\n",
    "b = PhysicalBooster(devices, τ=1e-3,ϵ=9.4,maxlength=0.2);\n",
    "\n",
    "homeHome(b)"
   ]
  },
  {
   "cell_type": "code",
   "execution_count": null,
   "metadata": {},
   "outputs": [],
   "source": [
    "d0 = findpeak(22.025e9,2; eps=9.4,thickness=1e-3,dev=0.3,gran=10000)\n",
    "d0 *= 2.7799"
   ]
  },
  {
   "cell_type": "code",
   "execution_count": null,
   "metadata": {},
   "outputs": [],
   "source": [
    "# sleep(5)\n",
    "\n",
    "move(b,[d0,2d0+1e-3]; additive=false)"
   ]
  },
  {
   "cell_type": "code",
   "execution_count": null,
   "metadata": {},
   "outputs": [],
   "source": [
    "b.pos"
   ]
  },
  {
   "cell_type": "code",
   "execution_count": null,
   "metadata": {},
   "outputs": [],
   "source": [
    "move(b,[d0,2d0+1e-3]; additive=false)\n",
    "\n",
    "ref0 = getTrace(vna)\n",
    "objF = ObjRefVNA(vna,ref0)\n",
    "objFR(ref) = ObjRefRef(ref,ref0)\n",
    "\n",
    "steps = 10\n",
    "\n",
    "hist = initHist(b,(2*steps+1)^2+1,freqs,objFR(ref0));\n",
    "updateHist!(b,hist,freqs,objFR(ref0))\n",
    "R = zeros(ComplexF64,2*steps+1,2*steps+1,length(ref0))\n",
    "\n",
    "p0 = copy(b.pos)\n",
    "\n",
    "@time for i in -steps:steps, j in -steps:steps\n",
    "    j == -steps && println(\"i: \",i)\n",
    "\n",
    "    move(b,p0+[i*0.0005,j*0.0005]; additive=false)\n",
    "    \n",
    "    ref = getTrace(vna)\n",
    "    updateHist!(b,hist,freqs,objFR(ref))\n",
    "    R[i+steps+1,j+steps+1,:] = ref\n",
    "end\n",
    "\n",
    "@save \"2_discs_c_scan_peak.jld2\" ref0 hist R freqs"
   ]
  },
  {
   "cell_type": "code",
   "execution_count": null,
   "metadata": {},
   "outputs": [],
   "source": [
    "@load \"2_discs_c_scan_peak.jld2\"\n",
    "\n",
    "R_ = reshape((x->x.objvalue).(hist[1:end-1]),(21,21))\n",
    "\n",
    "scan = contourf(-5:0.5:5,-5:0.5:5,log10.(R_); color=:turbo,levels=20,lw=0,aspect_ratio=:equal,clim=(0,1.8),colorbar_title=L\"\\log_{10} f_R\")\n",
    "plot!([-6,-6,2.5,2.5,-6],[-2.5,4,4,-2.5,-2.5]; c=:black,linestyle=:dash,legend=false)\n",
    "xlims!((-5,5))\n",
    "ylims!((-5,5))\n",
    "xlabel!(L\"\\Delta x_1\"*\" [mm]\")\n",
    "ylabel!(L\"\\Delta x_2\"*\" [mm]\")\n",
    "savefig(\"2disc_c_scan_p.pdf\")"
   ]
  },
  {
   "cell_type": "code",
   "execution_count": null,
   "metadata": {},
   "outputs": [],
   "source": [
    "[d0,2d0+1e-3]"
   ]
  },
  {
   "cell_type": "code",
   "execution_count": null,
   "metadata": {},
   "outputs": [],
   "source": [
    "b.pos"
   ]
  },
  {
   "cell_type": "code",
   "execution_count": null,
   "metadata": {},
   "outputs": [],
   "source": [
    "move(b,[d0,2d0+1e-3]; additive=false)\n",
    "\n",
    "ref0 = getTrace(vna)\n",
    "objF = ObjRefVNA(vna,ref0)\n",
    "objFR(ref) = ObjRefRef(ref,ref0)\n",
    "\n",
    "hist = initHist(b,1001,freqs,objFR(ref0));\n",
    "updateHist!(b,hist,freqs,objFR(ref0))\n",
    "\n",
    "move(b,[0.002,0.002]; additive=true)\n",
    "\n",
    "trace = linesearch(b,hist,freqs,5e-6,\n",
    "                    objF,\n",
    "                    SolverSteep,\n",
    "                    Derivator1(1e-5,\"double\"),\n",
    "                    StepNorm(\"unit\"),\n",
    "                    SearchExtendedSteps(100),\n",
    "                    UnstuckDont;\n",
    "                    ϵgrad=0.,maxiter=Int(1e2),showtrace=true,\n",
    "                    resettimer=true);"
   ]
  },
  {
   "cell_type": "code",
   "execution_count": null,
   "metadata": {},
   "outputs": [],
   "source": [
    "idx = findfirst(x->x.objvalue==0.,hist)-1\n",
    "\n",
    "x_ = cat((x->x.pos).(reverse(hist[1:idx-1]))...; dims=2)"
   ]
  },
  {
   "cell_type": "code",
   "execution_count": null,
   "metadata": {},
   "outputs": [],
   "source": [
    "plot!(scan,(x_[1,:].-0.02125960840209658)/1e-3,(x_[2,:].-0.04351921680419316)/1e-3; c=:black)"
   ]
  },
  {
   "cell_type": "code",
   "execution_count": null,
   "metadata": {},
   "outputs": [],
   "source": [
    "analyse(hist,trace,freqs)"
   ]
  }
 ],
 "metadata": {
  "kernelspec": {
   "display_name": "Julia 1.9.0",
   "language": "julia",
   "name": "julia-1.9"
  },
  "language_info": {
   "file_extension": ".jl",
   "mimetype": "application/julia",
   "name": "julia",
   "version": "1.9.0"
  },
  "orig_nbformat": 4
 },
 "nbformat": 4,
 "nbformat_minor": 2
}
